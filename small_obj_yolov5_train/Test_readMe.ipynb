{
 "cells": [
  {
   "cell_type": "markdown",
   "metadata": {},
   "source": [
    "# 单张推理使用方法"
   ]
  },
  {
   "cell_type": "markdown",
   "metadata": {},
   "source": [
    "\n",
    "## 1. 拷贝已经训练好的模型到Web_merged_detector\n",
    "\n",
    "复制模型，例runs/train/exp/best.pt\n",
    "<p align='center'>\n",
    "    <img src='screenshots/copy.png'>\n",
    "</p>\n",
    "到项目Web_merged_detector的weights里面\n",
    "<p align='center'>\n",
    "    <img src='screenshots/paste.png'>\n",
    "</p>"
   ]
  },
  {
   "cell_type": "markdown",
   "metadata": {},
   "source": [
    "## 2.创建自制的配置文件\n",
    "\n",
    "在config目录下创建一个新的.yaml配置文件，例：best.yaml\n",
    "<p align='center'>\n",
    "    <img src='screenshots/new_cfg.png'>\n",
    "</p>\n",
    "根据类别的数量配置 nc: int\n",
    "\n",
    "根据类别的标签配置 names: list\n",
    "\n",
    "如果需要绑定标签颜色，则配置 colors: list，注意names和colors需一一对应；如果不需要绑定颜色，则配置 colors: []，此时系统会给标签配置随机不同的颜色\n",
    "\n",
    "根据模型位置配置 weights: ./weights/*.pt\n",
    "\n",
    "根据所需输出图片大小配置 img_size: int\n",
    "\n",
    "<p align='center'>\n",
    "    <img src='screenshots/test_cfg.png'>\n",
    "</p>\n",
    "如上图，例子中一共有4个种类\n",
    "\n",
    "分别为b, g, r, y\n",
    "\n",
    "同时，b绑定为[0, 0, 255]蓝色, g为绿色, r为红色, y为黄色\n",
    "\n",
    "模型位置为./weights/best.pt\n",
    "\n",
    "期望输出图片大小为416\n",
    "<p align='center'>\n",
    "    <img src='screenshots/car_cfg.png'>\n",
    "</p>\n",
    "而在上图配置中没有配置colors，因此颜色会随机。\n"
   ]
  },
  {
   "cell_type": "markdown",
   "metadata": {},
   "source": [
    "## 3.单张图推理-运行flask\n",
    "\n",
    "Terminal输入python run.py\n",
    "<p align='center'>\n",
    "    <img src='screenshots/start_test.png'>\n",
    "</p>\n",
    "成功后，用浏览器打开提示网址\n",
    "<p align='center'>\n",
    "    <img src='screenshots/start_debug.png'>\n",
    "</p>"
   ]
  },
  {
   "cell_type": "markdown",
   "metadata": {},
   "source": [
    "## 4.开始推理\n",
    "网址打开后的界面\n",
    "<p align='center'>\n",
    "    <img src='screenshots/home.png'>\n",
    "</p>\n",
    "点击按钮“选择文件”选取图片文件，再点击下拉菜单选择模型\n",
    "<p align='center'>\n",
    "    <img src='screenshots/drop.png'>\n",
    "</p>\n",
    "最后点击“submit”按钮"
   ]
  },
  {
   "cell_type": "markdown",
   "metadata": {},
   "source": [
    "## 5.结果展示\n",
    "<p align='center'>\n",
    "    <img src='screenshots/test_result.png'>\n",
    "</p>\n",
    "第一部分为上传图片原大小\n",
    "\n",
    "第二部分为按需reshape之后的推理出的图片\n",
    "\n",
    "第三部分为识别物体信息的展示，包含（两个端点的横纵坐标，condifence和标签）"
   ]
  },
  {
   "cell_type": "markdown",
   "metadata": {},
   "source": [
    "# 批量处理方法"
   ]
  },
  {
   "cell_type": "markdown",
   "metadata": {},
   "source": [
    "## 1. 拷贝已经训练好的模型到whole_merged_detector\n",
    "\n",
    "复制模型，例runs/train/exp/best.pt\n",
    "<p align='center'>\n",
    "    <img src='screenshots/copy.png'>\n",
    "</p>\n",
    "到项目whole_merged_detector的weights里\n",
    "<p align='center'>\n",
    "    <img src='screenshots/whole_paste.png'>\n",
    "</p>"
   ]
  },
  {
   "cell_type": "markdown",
   "metadata": {},
   "source": [
    "## 2.导入图片\n",
    "创建文件夹，命名\n",
    "\n",
    "创建子文件夹，命名images,放入需要推理的图片\n",
    "\n",
    "把整个文件夹放在./test路径下\n",
    "\n",
    "例: 创建文件夹best，创建子文件夹images，把图片存放在images文件夹里，然后放到./test里面\n",
    "\n",
    "<p align='center'>\n",
    "    <img src='screenshots/whole_dirs.png'>\n",
    "</p>\n"
   ]
  },
  {
   "cell_type": "markdown",
   "metadata": {},
   "source": [
    "## 3.在config创建新的配置文件*.yaml\n",
    "\n",
    "配置*.yaml文件\n",
    "\n",
    "根据类别的数量配置 nc: int\n",
    "\n",
    "根据类别的标签配置 names: list\n",
    "\n",
    "根据模型位置配置 weights: ./weights/*.pt\n",
    "\n",
    "根据所需输出图片大小配置 img_size: int\n",
    "\n",
    "根据需要推理的图片文件夹路径配置：./test/* （步骤2的路径）\n",
    "\n",
    "例：best.yaml\n",
    "<p align='center'>\n",
    "    <img src='screenshots/whole_cfg.png'>\n",
    "</p>\n",
    "如上图，例子中一共有4个种类\n",
    "\n",
    "分别为b, g, r, y\n",
    "\n",
    "模型位置为./weights/best.pt\n",
    "\n",
    "期望输出图片大小为416\n",
    "\n",
    "图片文件夹路径为./test/best"
   ]
  },
  {
   "cell_type": "markdown",
   "metadata": {},
   "source": [
    "## 4.运行程序，开始推理\n",
    "\n",
    "打开控制台输入python data_utils.py --cfg *.yaml\n",
    "\n",
    "其中--cfg 需要的参数是你存在config目录里的*.yaml配置文件，例：best.yaml\n",
    "<p align='center'>\n",
    "    <img src='screenshots/whole_cmd.png'>\n",
    "</p>\n",
    "如果你不输入--cfg配置，程序默认使用color_tri_data.yaml\n",
    "\n"
   ]
  },
  {
   "cell_type": "markdown",
   "metadata": {},
   "source": [
    "## 5.查看结果\n",
    "当运行成功时，控制台会输出执行信息和所用时间\n",
    "<p align='center'>\n",
    "    <img src='screenshots/whole_cmdyes.png'>\n",
    "</p>\n",
    "处理好的图片可以在./test/*/results看到\n",
    "<p align='center'>\n",
    "    <img src='screenshots/whole_resdir.png'>\n",
    "</p>\n",
    "\n",
    "\n"
   ]
  }
 ],
 "metadata": {
  "interpreter": {
   "hash": "e27a307c62a770a7f0a2d24815b601a934226720c56b40b7f6e0263489a239ac"
  },
  "kernelspec": {
   "display_name": "Python 3.8.0 64-bit ('py38': conda)",
   "name": "python3"
  },
  "language_info": {
   "name": "python",
   "version": ""
  },
  "orig_nbformat": 4
 },
 "nbformat": 4,
 "nbformat_minor": 2
}