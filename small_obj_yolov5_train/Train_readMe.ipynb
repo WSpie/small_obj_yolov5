{
 "cells": [
  {
   "cell_type": "markdown",
   "metadata": {},
   "source": [
    "# 训练使用方法"
   ]
  },
  {
   "cell_type": "markdown",
   "metadata": {},
   "source": [
    "## 1. 需训练图片文件路径\n",
    "\n",
    "将需要训练的图片存放在 datasets/train/images 里\n",
    "\n",
    "将需要训练的对应label的.xml文件存放在 datasets/train/labels 里，注意：图片名应和.xml文件名一一对应！如：img01haha.jpg对应img01haha.xml\n",
    "<p align='center'>\n",
    "    <img src='screenshots/datasets_train.png'>\n",
    "</p>\n",
    "\n",
    "将用于validation的图片存放在 datasets/valid/images 里\n",
    "\n",
    "将用于validation的.xml文件存放在 datasets/valid.labels 里\n",
    "<p align='center'>\n",
    "    <img src='screenshots/datasets_valid.png'>\n",
    "</p>"
   ]
  },
  {
   "cell_type": "markdown",
   "metadata": {},
   "source": [
    "## 2. 配置根目录的config.yaml文件：\n",
    "\n",
    "根据所需的种类数量修改 nc\n",
    "\n",
    "根据所需的种类标签修改 names\n",
    "<p align='center'>\n",
    "    <img src='screenshots/cfg_basic.png'>\n",
    "</p>\n",
    "***可选. 根据需求修改config.yaml其他的参数，如学习率\n",
    "<p align='center'>\n",
    "    <img src='screenshots/cfg_op.png' height='300'>\n",
    "</p>"
   ]
  },
  {
   "cell_type": "markdown",
   "metadata": {},
   "source": [
    "## 3. 运行训练\n",
    "\n",
    "安装库\n",
    "在控制台输入：pip install -r requirements.txt\n",
    "<p align='center'>\n",
    "    <img src='screenshots/import.png'>\n",
    "</p>\n",
    "训练模型\n",
    "在控制台输入: python train.py --batch-size 8 --epochs 500 --device cpu\n",
    "注：--device 如不输入参数，则默认GPU； --epochs 默认300； --batch-size 默认16，如果报错，请下调数值\n",
    "<p align='center'>\n",
    "    <img src='screenshots/start_train.png'>\n",
    "</p>"
   ]
  },
  {
   "cell_type": "markdown",
   "metadata": {},
   "source": [
    "## 4. 检查结果\n",
    "\n",
    "结果会自动保存在 runs/train/exp \n",
    "\n",
    "其中模型会被保存在 runs/train/exp/weights 里\n",
    "<p align='center'>\n",
    "    <img src='screenshots/results.png'>\n",
    "</p>"
   ]
  }
 ],
 "metadata": {
  "interpreter": {
   "hash": "e27a307c62a770a7f0a2d24815b601a934226720c56b40b7f6e0263489a239ac"
  },
  "kernelspec": {
   "display_name": "Python 3.8.0 64-bit ('py38': conda)",
   "name": "python3"
  },
  "language_info": {
   "name": "python",
   "version": ""
  },
  "orig_nbformat": 4
 },
 "nbformat": 4,
 "nbformat_minor": 2
}